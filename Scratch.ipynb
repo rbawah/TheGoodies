{
 "cells": [
  {
   "cell_type": "code",
   "execution_count": 35,
   "id": "0c02b2a2",
   "metadata": {},
   "outputs": [],
   "source": [
    "import json\n",
    "\n",
    "with open('data/osconfeed.json') as fp:\n",
    "    feed = json.load(fp)"
   ]
  },
  {
   "cell_type": "code",
   "execution_count": 36,
   "id": "e3493f9c",
   "metadata": {},
   "outputs": [
    {
     "data": {
      "text/plain": [
       "['conferences', 'events', 'speakers', 'venues']"
      ]
     },
     "execution_count": 36,
     "metadata": {},
     "output_type": "execute_result"
    }
   ],
   "source": [
    "sorted(feed['Schedule'].keys())"
   ]
  },
  {
   "cell_type": "code",
   "execution_count": 42,
   "id": "f415e702",
   "metadata": {},
   "outputs": [
    {
     "name": "stdout",
     "output_type": "stream",
     "text": [
      "  1 conferences\n",
      "484 events\n",
      "357 speakers\n",
      " 53 venues\n"
     ]
    }
   ],
   "source": [
    "for key, value in sorted(feed['Schedule'].items()):\n",
    "    print(f'{len(value):3} {key}')"
   ]
  },
  {
   "cell_type": "code",
   "execution_count": 47,
   "id": "762e27a1",
   "metadata": {},
   "outputs": [
    {
     "name": "stdout",
     "output_type": "stream",
     "text": [
      "conferences 1\n",
      "events      484\n",
      "speakers    357\n",
      "venues      53\n"
     ]
    }
   ],
   "source": [
    "for key, value in sorted(feed['Schedule'].items()):\n",
    "    print(f'{key:11} {len(value)}')"
   ]
  },
  {
   "cell_type": "code",
   "execution_count": 53,
   "id": "be8c1f9f",
   "metadata": {},
   "outputs": [
    {
     "data": {
      "text/plain": [
       "'Dealing With Disrespect'"
      ]
     },
     "execution_count": 53,
     "metadata": {},
     "output_type": "execute_result"
    }
   ],
   "source": [
    "feed['Schedule']['events'][100]['name']"
   ]
  },
  {
   "cell_type": "code",
   "execution_count": 50,
   "id": "a68fad0d",
   "metadata": {},
   "outputs": [
    {
     "name": "stdout",
     "output_type": "stream",
     "text": [
      "Schedule\n"
     ]
    }
   ],
   "source": [
    "for key, value in sorted(feed.items()):\n",
    "    print(f'{key}')"
   ]
  },
  {
   "cell_type": "code",
   "execution_count": null,
   "id": "5874d89e",
   "metadata": {},
   "outputs": [],
   "source": [
    "from collections import abc\n",
    "\n",
    "\n",
    "class FrozenJSON:\n",
    "    \"\"\"A read-only façade for navigating a JSON-like object\n",
    "       using attribute notation\n",
    "    \"\"\"\n",
    "\n",
    "    def __init__(self, mapping):\n",
    "        self.__data = dict(mapping)  # <1>\n",
    "\n",
    "    def __getattr__(self, name):  # <2>\n",
    "        try:\n",
    "            return getattr(self.__data, name)  # <3>\n",
    "        except AttributeError:\n",
    "            return FrozenJSON.build(self.__data[name])  # <4>\n",
    "\n",
    "    def __dir__(self):  # <5>\n",
    "        return self.__data.keys()\n",
    "\n",
    "    @classmethod # Article on ClassMethods\n",
    "    def build(cls, obj):  # <6>\n",
    "        if isinstance(obj, abc.Mapping):  # <7>\n",
    "            return cls(obj)\n",
    "        elif isinstance(obj, abc.MutableSequence):  # <8>\n",
    "            return [cls.build(item) for item in obj]\n",
    "        else:  # <9>\n",
    "            return obj"
   ]
  }
 ],
 "metadata": {
  "kernelspec": {
   "display_name": "Python 3 (ipykernel)",
   "language": "python",
   "name": "python3"
  },
  "language_info": {
   "codemirror_mode": {
    "name": "ipython",
    "version": 3
   },
   "file_extension": ".py",
   "mimetype": "text/x-python",
   "name": "python",
   "nbconvert_exporter": "python",
   "pygments_lexer": "ipython3",
   "version": "3.7.10"
  }
 },
 "nbformat": 4,
 "nbformat_minor": 5
}
